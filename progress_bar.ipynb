{
 "cells": [
  {
   "cell_type": "code",
   "execution_count": 2,
   "id": "36ea690a",
   "metadata": {},
   "outputs": [],
   "source": [
    "from ipywidgets import IntProgress"
   ]
  },
  {
   "cell_type": "code",
   "execution_count": 5,
   "id": "57f40988",
   "metadata": {},
   "outputs": [],
   "source": [
    "import time"
   ]
  },
  {
   "cell_type": "code",
   "execution_count": 7,
   "id": "f9fc2501",
   "metadata": {},
   "outputs": [],
   "source": [
    "todo_tasks=['comer', 'cantar', 'saltar', 'cagar']"
   ]
  },
  {
   "cell_type": "code",
   "execution_count": 11,
   "id": "04100ca1",
   "metadata": {},
   "outputs": [
    {
     "data": {
      "application/vnd.jupyter.widget-view+json": {
       "model_id": "78c5b422db7d41f8acf8f46a8eaaad3d",
       "version_major": 2,
       "version_minor": 0
      },
      "text/plain": [
       "IntProgress(value=0, description='(Init)', max=4)"
      ]
     },
     "metadata": {},
     "output_type": "display_data"
    },
    {
     "name": "stdout",
     "output_type": "stream",
     "text": [
      "pito\n",
      "pito\n",
      "pito\n",
      "pito\n"
     ]
    }
   ],
   "source": [
    "progress = IntProgress()\n",
    "progress.max = len(todo_tasks)\n",
    "progress.description = '(Init)'\n",
    "display(progress)\n",
    "time.sleep(0.25)\n",
    "\n",
    "# Simulating task execution\n",
    "for task in todo_tasks:\n",
    "    progress.value += 1\n",
    "    time.sleep(0.5)\n",
    "    progress.description = task\n",
    "    print('pito')\n",
    "progress.description = '(Done)'\n"
   ]
  },
  {
   "cell_type": "code",
   "execution_count": null,
   "id": "7b1db9cd",
   "metadata": {},
   "outputs": [],
   "source": []
  }
 ],
 "metadata": {
  "kernelspec": {
   "display_name": "Python 3 (ipykernel)",
   "language": "python",
   "name": "python3"
  },
  "language_info": {
   "codemirror_mode": {
    "name": "ipython",
    "version": 3
   },
   "file_extension": ".py",
   "mimetype": "text/x-python",
   "name": "python",
   "nbconvert_exporter": "python",
   "pygments_lexer": "ipython3",
   "version": "3.8.8"
  }
 },
 "nbformat": 4,
 "nbformat_minor": 5
}
