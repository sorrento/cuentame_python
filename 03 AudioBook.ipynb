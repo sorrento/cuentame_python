{
 "cells": [
  {
   "cell_type": "markdown",
   "id": "a8714338",
   "metadata": {},
   "source": [
    "# Audiobook \n",
    "- Crea audiobooks (mp3) con sintetizador\n",
    "\n",
    "**to do**\n",
    "- verificar el tfidf, que sale \"army\" en muchos capítulos\n",
    "- ejecutar en Collab\n",
    "- ejecutar en gpu en local o colab\n",
    "- verificar si es más rápido leer párraos cortos, sólo los puntos seguidos en el sintetizador"
   ]
  },
  {
   "cell_type": "code",
   "execution_count": null,
   "id": "659cb385",
   "metadata": {},
   "outputs": [],
   "source": [
    "%load_ext autoreload\n",
    "%autoreload 2\n",
    "\n",
    "import random\n",
    "from ut.base import json_read, json_save, make_folder, json_update\n",
    "from utils import crea_capsulas_max, get_parrafos, get_final_parrfs, speakers_test, get_df_capitulos, \\\n",
    "    get_dic_capitulos, update_di_capi, procesa_capitulo, get_book_datas, SUMMARIES_JSON, sample_speaker, test_voices_en, \\\n",
    "    CONTENT_JSON\n",
    "from ut.textmining import palabras_representativas\n",
    "\n",
    "LIM = 850  # largo de las cápsulas, límite de lo que puede leer el sinte"
   ]
  },
  {
   "cell_type": "markdown",
   "id": "b247f223",
   "metadata": {},
   "source": [
    "## 1. Selección del libro\n",
    "Tiene que ser un libro ya procesado, así no tengo que cortar la cabeza y cola desde aquí"
   ]
  },
  {
   "cell_type": "code",
   "execution_count": null,
   "id": "309547f1",
   "metadata": {},
   "outputs": [],
   "source": [
    "pat = 'Speaker' # <<<<<< poner parte del título\n",
    "txt, im, titulo, d_summary = get_book_datas(pat)"
   ]
  },
  {
   "cell_type": "code",
   "execution_count": null,
   "id": "b872ec4f",
   "metadata": {
    "scrolled": true
   },
   "outputs": [],
   "source": [
    "df = get_parrafos(titulo)\n",
    "df"
   ]
  },
  {
   "cell_type": "markdown",
   "id": "72c72835",
   "metadata": {},
   "source": [
    "## 2. Creación de cápsulas"
   ]
  },
  {
   "cell_type": "code",
   "execution_count": null,
   "id": "592fb87c",
   "metadata": {
    "scrolled": true
   },
   "outputs": [],
   "source": [
    "final, partes = get_final_parrfs(df, LIM)\n",
    "final"
   ]
  },
  {
   "cell_type": "code",
   "execution_count": null,
   "id": "0a3c8ff1",
   "metadata": {},
   "outputs": [],
   "source": [
    "max(final.len.to_list())  # todo, puede que haya alguno que sea grande y no tenga punto. Cor"
   ]
  },
  {
   "cell_type": "code",
   "execution_count": null,
   "id": "2ab1fe08",
   "metadata": {},
   "outputs": [],
   "source": [
    "final[final.len > LIM]  # TODO REVISAR POR QUÉ HAY ALGUNOS MÁS LARGOS QUE EL LÍMITE"
   ]
  },
  {
   "cell_type": "code",
   "execution_count": null,
   "id": "62ea6388",
   "metadata": {},
   "outputs": [],
   "source": [
    "final[final.len > LIM].parte.iloc[0]"
   ]
  },
  {
   "cell_type": "code",
   "execution_count": null,
   "id": "8da5f651",
   "metadata": {},
   "outputs": [],
   "source": [
    "d_capsulas = crea_capsulas_max(partes, final, lmax=LIM, verbose=False)\n",
    "caps = ['.\\n'.join(d_capsulas[x]['texto']) for x in d_capsulas]  # todo probar si sintetizador lee punto aparte"
   ]
  },
  {
   "cell_type": "code",
   "execution_count": null,
   "id": "7f6bd24e",
   "metadata": {
    "scrolled": true
   },
   "outputs": [],
   "source": [
    "caps[12]  # las cápsulas son las que puede leer de una sola vez"
   ]
  },
  {
   "cell_type": "code",
   "execution_count": null,
   "id": "d3477f31",
   "metadata": {
    "scrolled": true
   },
   "outputs": [],
   "source": [
    "df_capitulos = get_df_capitulos(caps)\n",
    "df_capitulos"
   ]
  },
  {
   "cell_type": "code",
   "execution_count": null,
   "id": "01132676",
   "metadata": {},
   "outputs": [],
   "source": [
    "d_capitulos = get_dic_capitulos(df_capitulos)"
   ]
  },
  {
   "cell_type": "markdown",
   "id": "a7e46a04",
   "metadata": {},
   "source": [
    "## 2.1 Descripción de cada capítulo"
   ]
  },
  {
   "cell_type": "code",
   "execution_count": null,
   "id": "bf1ab69e",
   "metadata": {},
   "outputs": [],
   "source": [
    "# depurar los nombres que salen, modificando el regex de split()\n",
    "# df_names, d_all = get_candidatos_nombres_all(txt)\n",
    "# list(df_names.index)"
   ]
  },
  {
   "cell_type": "code",
   "execution_count": null,
   "id": "e437d219",
   "metadata": {},
   "outputs": [],
   "source": [
    "capitulos = ['\\n '.join(d_capitulos[cap]['capsulas']) for cap in d_capitulos]"
   ]
  },
  {
   "cell_type": "code",
   "execution_count": null,
   "id": "bb6dae2d",
   "metadata": {
    "scrolled": true
   },
   "outputs": [],
   "source": [
    "capitulos_titles = palabras_representativas(capitulos, l_exclude=d_summary['names'], \n",
    "                                            max_df=.4, #.8  proporción de documentos. si lo bajamos quitamos los muy frecuentes\n",
    "                                            min_df=.2)#.2  % de docs. Si lo subo quito palabras poco frecuentes\n",
    "capitulos_titles"
   ]
  },
  {
   "cell_type": "code",
   "execution_count": null,
   "id": "89dcdcbb",
   "metadata": {
    "scrolled": true
   },
   "outputs": [],
   "source": [
    "update_di_capi(d_capitulos, capitulos_titles, d_summary, titulo)"
   ]
  },
  {
   "cell_type": "code",
   "execution_count": null,
   "id": "de7fbff4",
   "metadata": {},
   "outputs": [],
   "source": [
    "path_book = make_folder('data_out/' + titulo + '/')"
   ]
  },
  {
   "cell_type": "code",
   "execution_count": null,
   "id": "7e41c851",
   "metadata": {
    "scrolled": true
   },
   "outputs": [],
   "source": [
    "json_save(d_capitulos, path_book + CONTENT_JSON)"
   ]
  },
  {
   "cell_type": "markdown",
   "id": "2d1255e1",
   "metadata": {},
   "source": [
    "## 2. AUDIO"
   ]
  },
  {
   "cell_type": "code",
   "execution_count": null,
   "id": "e1b73d05",
   "metadata": {},
   "outputs": [],
   "source": [
    "d_capitulos=json_read(path_book + CONTENT_JSON)"
   ]
  },
  {
   "cell_type": "markdown",
   "id": "f8d51315",
   "metadata": {},
   "source": [
    "### 2.1 Init"
   ]
  },
  {
   "cell_type": "markdown",
   "id": "f197e816",
   "metadata": {},
   "source": [
    "Atentos a si hay un modelo más moderno que `v3_es`para castellano"
   ]
  },
  {
   "cell_type": "code",
   "execution_count": null,
   "id": "132c428c",
   "metadata": {
    "scrolled": true
   },
   "outputs": [],
   "source": [
    "import torch\n",
    "from omegaconf import OmegaConf\n",
    "\n",
    "torch.hub.download_url_to_file('https://raw.githubusercontent.com/snakers4/silero-models/master/models.yml',\n",
    "                               'latest_silero_models.yml',\n",
    "                               progress=False)\n",
    "\n",
    "models = OmegaConf.load('latest_silero_models.yml')\n",
    "available_languages = list(models.tts_models.keys())\n",
    "\n",
    "for lang in available_languages:\n",
    "    modeli = list(models.tts_models.get(lang).keys())\n",
    "    print(f'Available models for {lang}: {modeli}')"
   ]
  },
  {
   "cell_type": "code",
   "execution_count": null,
   "id": "ff92dea4",
   "metadata": {},
   "outputs": [],
   "source": [
    "#verificación de speakers en españo, suele haber 3\n",
    "# model_id = 'v3_es'\n",
    "# language='es'\n",
    "# model, example_text = torch.hub.load(repo_or_dir='snakers4/silero-models',\n",
    "#                                      model='silero_tts',\n",
    "#                                      language=language,\n",
    "#                                      speaker=model_id)\n",
    "# model.speakers"
   ]
  },
  {
   "cell_type": "code",
   "execution_count": null,
   "id": "88e218c8",
   "metadata": {},
   "outputs": [],
   "source": [
    "# configuración\n",
    "language = d_summary['idioma'].lower()\n",
    "model_id = 'v3_es' if language == 'es' else 'v3_en'\n",
    "\n",
    "sample_rate = 48000\n",
    "put_accent = True\n",
    "put_yo = True"
   ]
  },
  {
   "cell_type": "code",
   "execution_count": null,
   "id": "a75a3010",
   "metadata": {},
   "outputs": [],
   "source": [
    "# cargamos el modelo\n",
    "device = torch.device('cpu')  # or cuda, pero no me funciona\n",
    "\n",
    "model, example_text = torch.hub.load(repo_or_dir='snakers4/silero-models',\n",
    "                                     model='silero_tts',\n",
    "                                     language=language,\n",
    "                                     speaker=model_id)\n",
    "model.to(device)  # gpu or cpu"
   ]
  },
  {
   "cell_type": "code",
   "execution_count": null,
   "id": "aa33be71",
   "metadata": {},
   "outputs": [],
   "source": [
    "sps = [x for x in model.speakers if x != 'random']"
   ]
  },
  {
   "cell_type": "markdown",
   "id": "33c884bb",
   "metadata": {},
   "source": [
    "Atentos a si **aparecen nuevas voces**"
   ]
  },
  {
   "cell_type": "code",
   "execution_count": null,
   "id": "76d4cc97",
   "metadata": {},
   "outputs": [],
   "source": [
    "d_capitulos['1']['capsulas'][0][:450]"
   ]
  },
  {
   "cell_type": "code",
   "execution_count": null,
   "id": "9c686eb5",
   "metadata": {},
   "outputs": [],
   "source": [
    "d_capitulos"
   ]
  },
  {
   "cell_type": "markdown",
   "id": "58146a55",
   "metadata": {},
   "source": [
    "## Elegir Speaker"
   ]
  },
  {
   "cell_type": "code",
   "execution_count": null,
   "id": "a8b0fb50",
   "metadata": {
    "scrolled": false
   },
   "outputs": [],
   "source": [
    "if language == 'es':\n",
    "    speakers_test(model,\n",
    "                  txt=d_capitulos[1]['capsulas'][0][:450]\n",
    "#                  txt='Millonarios por una semana.\\n Cuando no se tiene una chaucha en el bolsillo, no es muy amplia la gama de actividades elegibles para matar el tiempo. Con Diego y Vittorio nos juntábamos casi todos los d'\n",
    "                 )"
   ]
  },
  {
   "cell_type": "markdown",
   "id": "20c80249",
   "metadata": {},
   "source": [
    "Probamos varios speakers EN aleatorios con el texto que tenemos entre manos:"
   ]
  },
  {
   "cell_type": "markdown",
   "id": "81be96ec",
   "metadata": {
    "lines_to_next_cell": 2
   },
   "source": [
    "### speakers, random voice"
   ]
  },
  {
   "cell_type": "code",
   "execution_count": null,
   "id": "3c4c5f19",
   "metadata": {
    "lines_to_next_cell": 2
   },
   "outputs": [],
   "source": [
    "if 'speaker' not in d_summary:\n",
    "    if language == 'es':\n",
    "        speaker = 'es_1'\n",
    "    else:\n",
    "        \n",
    "\n",
    "        best_en = ['en_' + str(i) for i in [33, 50, 61, 75, 94]]\n",
    "        speaker = random.choice(best_en)\n",
    "\n",
    "    # update fichero\n",
    "    d_summary['speaker'] = speaker\n",
    "    json_update({titulo: d_summary}, SUMMARIES_JSON)\n",
    "\n",
    "else:\n",
    "    speaker = d_summary['speaker']"
   ]
  },
  {
   "cell_type": "code",
   "execution_count": null,
   "id": "d4cbafb6",
   "metadata": {},
   "outputs": [],
   "source": [
    "# elegido a mano\n",
    "# speaker = 'en_94'  # Sophie\n",
    "# d_summary['speaker'] = speaker\n",
    "# json_update({titulo: d_summary}, SUMMARIES_JSON)"
   ]
  },
  {
   "cell_type": "code",
   "execution_count": null,
   "id": "0ce12e85",
   "metadata": {},
   "outputs": [],
   "source": [
    "probados_acc=[]"
   ]
  },
  {
   "cell_type": "code",
   "execution_count": null,
   "id": "0510c3d7",
   "metadata": {
    "scrolled": true
   },
   "outputs": [],
   "source": [
    "text=d_capitulos['1']['capsulas'][2] #elegimos un texto en particular\n",
    "text"
   ]
  },
  {
   "cell_type": "code",
   "execution_count": null,
   "id": "faad7603",
   "metadata": {
    "scrolled": true
   },
   "outputs": [],
   "source": [
    "probados=test_voices_en(model, d_capitulos=d_capitulos, n=10, avoid=probados_acc,text=text)\n",
    "probados_acc=probados_acc+probados"
   ]
  },
  {
   "cell_type": "code",
   "execution_count": null,
   "id": "2e618377",
   "metadata": {},
   "outputs": [],
   "source": [
    "probados_acc"
   ]
  },
  {
   "cell_type": "code",
   "execution_count": null,
   "id": "f0a19b87",
   "metadata": {},
   "outputs": [],
   "source": [
    "#\n",
    "best= [94]\n",
    "_=test_voices_en(model, d_capitulos=d_capitulos, lista=['en_'+str(x) for x in best], text=text)"
   ]
  },
  {
   "cell_type": "code",
   "execution_count": null,
   "id": "949a39e3",
   "metadata": {},
   "outputs": [],
   "source": [
    "### winner\n",
    "speaker='en_94'"
   ]
  },
  {
   "cell_type": "code",
   "execution_count": null,
   "id": "85cf127d",
   "metadata": {},
   "outputs": [],
   "source": [
    "# from utils import lee\n",
    "# lee(model, 'this is 230 idiots in a row.', 'en_99') # todo leer números en inglés"
   ]
  },
  {
   "cell_type": "markdown",
   "id": "2c11b267",
   "metadata": {},
   "source": [
    "# 3. Creación de mp3 de cada capítulo"
   ]
  },
  {
   "cell_type": "code",
   "execution_count": null,
   "id": "52837bdc",
   "metadata": {},
   "outputs": [],
   "source": [
    "path_json = 'data_out/{}/{}'.format(titulo, CONTENT_JSON)\n",
    "d_capitulos = json_read(path_json, keys_as_integer=True)"
   ]
  },
  {
   "cell_type": "code",
   "execution_count": null,
   "id": "51b9d2d0",
   "metadata": {},
   "outputs": [],
   "source": [
    "d_capitulos[1]['song']"
   ]
  },
  {
   "cell_type": "code",
   "execution_count": null,
   "id": "90570c25",
   "metadata": {
    "scrolled": true
   },
   "outputs": [],
   "source": [
    "from tqdm import tqdm\n",
    "ini = 1 # mínimo es 1\n",
    "pbar = tqdm(total=25)\n",
    "\n",
    "for i_cap in range(ini, 25 + 1):\n",
    "    procesa_capitulo(d_capitulos, i_capitulo=i_cap, titulo=titulo, path_book=path_book, model=model,\n",
    "                     speaker=speaker,\n",
    "                     debug_mode=False,\n",
    "#                      speakers=#sps\n",
    "                    )\n",
    "    pbar.update(1)\n",
    "pbar.close()"
   ]
  },
  {
   "cell_type": "code",
   "execution_count": null,
   "id": "9bb3d1f4",
   "metadata": {},
   "outputs": [],
   "source": [
    "# Prueba si un cap falla por longitud\n",
    "# txt = d_capitulos[3]['capsulas'][28]\n",
    "# print(len(txt))\n",
    "# print(txt)\n",
    "# lee(model, txt[:750], speaker)"
   ]
  },
  {
   "cell_type": "code",
   "execution_count": null,
   "id": "81834a18",
   "metadata": {
    "scrolled": true
   },
   "outputs": [],
   "source": [
    "#test numeros\n",
    "lee(model,'This is the year 1998')"
   ]
  }
 ],
 "metadata": {
  "jupytext": {
   "formats": "ipynb,py"
  },
  "kernelspec": {
   "display_name": "Python 3 (ipykernel)",
   "language": "python",
   "name": "python3"
  },
  "language_info": {
   "codemirror_mode": {
    "name": "ipython",
    "version": 3
   },
   "file_extension": ".py",
   "mimetype": "text/x-python",
   "name": "python",
   "nbconvert_exporter": "python",
   "pygments_lexer": "ipython3",
   "version": "3.8.8"
  }
 },
 "nbformat": 4,
 "nbformat_minor": 5
}
