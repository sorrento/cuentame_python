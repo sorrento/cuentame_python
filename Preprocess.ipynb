{
 "cells": [
  {
   "cell_type": "markdown",
   "id": "a8714338",
   "metadata": {},
   "source": [
    "# todo: \n",
    "- coger libros random del drive"
   ]
  },
  {
   "cell_type": "code",
   "execution_count": 118,
   "id": "659cb385",
   "metadata": {},
   "outputs": [
    {
     "name": "stdout",
     "output_type": "stream",
     "text": [
      "The autoreload extension is already loaded. To reload it, use:\n",
      "  %reload_ext autoreload\n"
     ]
    }
   ],
   "source": [
    "%load_ext autoreload\n",
    "%autoreload 2\n",
    "from u_base import get_now\n",
    "from utils import get_fakes, get_frecuencia_words, fichero_para_mathematica"
   ]
  },
  {
   "cell_type": "code",
   "execution_count": 7,
   "id": "8c6ea7ea",
   "metadata": {},
   "outputs": [],
   "source": [
    "path_calibre = 'c:/Users/milen/Biblioteca de calibre/'"
   ]
  },
  {
   "cell_type": "code",
   "execution_count": 61,
   "id": "c6a9f1ca",
   "metadata": {
    "scrolled": true
   },
   "outputs": [
    {
     "name": "stdout",
     "output_type": "stream",
     "text": [
      "** La ultima fecha de ficheros es:  20210731\n",
      "                                                    0\n",
      "0                   Homo Deus - Yuval Noah Harari.txt\n",
      "1            El planeta americano - Vicente Verdu.txt\n",
      "2   De que hablo cuando hablo de co - Haruki Murak...\n",
      "3             El baston runico - Michael Moorcock.txt\n",
      "4             Papelucho historiador - Marcela Paz.txt\n",
      "5   El caballero de las espadas - Michael Moorcock...\n",
      "6       El dragon en la espada - Michael Moorcock.txt\n",
      "7                 Diario de Ana Frank - Ana Frank.txt\n",
      "8                            Edipo Rey - Sofocles.txt\n",
      "9              La cantante calva - Eugene Ionesco.txt\n",
      "10       La vida de Lazarillo de Tormes - Anonimo.txt\n",
      "11            Las brujas de Salem - Arthur Miller.txt\n",
      "12                            Cosmos - Carl Sagan.txt\n",
      "13     Historia de dos ciudades - Charles Dickens.txt\n",
      "14  Ami, el nino de las estrellas - Enrique Barrio...\n",
      "15           La forma del agua - Andrea Camilleri.txt\n",
      "16                   Cantar del Mio Cid - Anonimo.txt\n",
      "17  Corazon tan blanco _ A Heart So - Javier Maria...\n",
      "18                  La tabla rasa - Steven Pinker.txt\n",
      "19           El ascenso de Endymion - Dan Simmons.txt\n",
      "20       El cuento de la criada - Margaret Atwood.txt\n",
      "21           Cuentos de Eva Luna - Isabel Allende.txt\n",
      "22                  Hijo de ladron - Manuel Rojas.txt\n",
      "23       El Principito - Antoine de Saint-Exupery.txt\n",
      "24     El desierto de los tartaros - Dino Buzzati.txt\n",
      "25  Cien anos de soledad - Garcia Marquez, Gabriel...\n",
      "26  Anton Chejov - Los campesinos - Biblioteca Vir...\n",
      "27           Huerfanos de la Helice - Dan Simmons.txt\n"
     ]
    },
    {
     "name": "stderr",
     "output_type": "stream",
     "text": [
      "C:\\Users\\milen\\anaconda3\\lib\\site-packages\\sklearn\\feature_extraction\\text.py:388: UserWarning: Your stop_words may be inconsistent with your preprocessing. Tokenizing the stop words generated tokens ['ll', 've'] not in stop_words.\n",
      "  warnings.warn('Your stop_words may be inconsistent with '\n"
     ]
    }
   ],
   "source": [
    "dic_fake, di_counts = get_fakes(path_calibre)"
   ]
  },
  {
   "cell_type": "code",
   "execution_count": 119,
   "id": "de2afb08",
   "metadata": {},
   "outputs": [
    {
     "data": {
      "text/html": [
       "<div>\n",
       "<style scoped>\n",
       "    .dataframe tbody tr th:only-of-type {\n",
       "        vertical-align: middle;\n",
       "    }\n",
       "\n",
       "    .dataframe tbody tr th {\n",
       "        vertical-align: top;\n",
       "    }\n",
       "\n",
       "    .dataframe thead th {\n",
       "        text-align: right;\n",
       "    }\n",
       "</style>\n",
       "<table border=\"1\" class=\"dataframe\">\n",
       "  <thead>\n",
       "    <tr style=\"text-align: right;\">\n",
       "      <th></th>\n",
       "      <th>count</th>\n",
       "    </tr>\n",
       "    <tr>\n",
       "      <th>palabra</th>\n",
       "      <th></th>\n",
       "    </tr>\n",
       "  </thead>\n",
       "  <tbody>\n",
       "    <tr>\n",
       "      <th>de</th>\n",
       "      <td>118342.0</td>\n",
       "    </tr>\n",
       "    <tr>\n",
       "      <th>la</th>\n",
       "      <td>78511.0</td>\n",
       "    </tr>\n",
       "    <tr>\n",
       "      <th>que</th>\n",
       "      <td>68322.0</td>\n",
       "    </tr>\n",
       "    <tr>\n",
       "      <th>y</th>\n",
       "      <td>64857.0</td>\n",
       "    </tr>\n",
       "    <tr>\n",
       "      <th>el</th>\n",
       "      <td>55959.0</td>\n",
       "    </tr>\n",
       "    <tr>\n",
       "      <th>...</th>\n",
       "      <td>...</td>\n",
       "    </tr>\n",
       "    <tr>\n",
       "      <th>jinping</th>\n",
       "      <td>1.0</td>\n",
       "    </tr>\n",
       "    <tr>\n",
       "      <th>jima</th>\n",
       "      <td>1.0</td>\n",
       "    </tr>\n",
       "    <tr>\n",
       "      <th>jianzhi</th>\n",
       "      <td>1.0</td>\n",
       "    </tr>\n",
       "    <tr>\n",
       "      <th>jemeres</th>\n",
       "      <td>1.0</td>\n",
       "    </tr>\n",
       "    <tr>\n",
       "      <th>identificarán</th>\n",
       "      <td>1.0</td>\n",
       "    </tr>\n",
       "  </tbody>\n",
       "</table>\n",
       "<p>20051 rows × 1 columns</p>\n",
       "</div>"
      ],
      "text/plain": [
       "                  count\n",
       "palabra                \n",
       "de             118342.0\n",
       "la              78511.0\n",
       "que             68322.0\n",
       "y               64857.0\n",
       "el              55959.0\n",
       "...                 ...\n",
       "jinping             1.0\n",
       "jima                1.0\n",
       "jianzhi             1.0\n",
       "jemeres             1.0\n",
       "identificarán       1.0\n",
       "\n",
       "[20051 rows x 1 columns]"
      ]
     },
     "execution_count": 119,
     "metadata": {},
     "output_type": "execute_result"
    }
   ],
   "source": [
    "conteo = get_frecuencia_words(di_counts)\n",
    "conteo"
   ]
  },
  {
   "cell_type": "code",
   "execution_count": 121,
   "id": "dd577a8f",
   "metadata": {},
   "outputs": [],
   "source": [
    "df_mat, filename_mat= fichero_para_mathematica(dic_fake)"
   ]
  },
  {
   "cell_type": "code",
   "execution_count": null,
   "id": "2d7f5544",
   "metadata": {},
   "outputs": [],
   "source": []
  }
 ],
 "metadata": {
  "jupytext": {
   "formats": "ipynb,py"
  },
  "kernelspec": {
   "display_name": "Python 3",
   "language": "python",
   "name": "python3"
  },
  "language_info": {
   "codemirror_mode": {
    "name": "ipython",
    "version": 3
   },
   "file_extension": ".py",
   "mimetype": "text/x-python",
   "name": "python",
   "nbconvert_exporter": "python",
   "pygments_lexer": "ipython3",
   "version": "3.8.8"
  }
 },
 "nbformat": 4,
 "nbformat_minor": 5
}
