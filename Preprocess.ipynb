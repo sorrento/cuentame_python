{
 "cells": [
  {
   "cell_type": "markdown",
   "id": "a8714338",
   "metadata": {},
   "source": [
    "# todo: \n",
    "- coger libros random del drive"
   ]
  },
  {
   "cell_type": "code",
   "execution_count": 649,
   "id": "659cb385",
   "metadata": {},
   "outputs": [
    {
     "name": "stdout",
     "output_type": "stream",
     "text": [
      "The autoreload extension is already loaded. To reload it, use:\n",
      "  %reload_ext autoreload\n"
     ]
    }
   ],
   "source": [
    "%load_ext autoreload\n",
    "%autoreload 2\n",
    "from u_io import get_filename, lee_txt\n",
    "from u_textminig import tf_idf_preprocessing\n",
    "from utils import seleccion_txt, get_fake_authors, get_fake_title"
   ]
  },
  {
   "cell_type": "code",
   "execution_count": 84,
   "id": "8c6ea7ea",
   "metadata": {},
   "outputs": [],
   "source": [
    "path_calibre = 'c:/Users/milen/Biblioteca de calibre/'"
   ]
  },
  {
   "cell_type": "code",
   "execution_count": 90,
   "id": "c6a9f1ca",
   "metadata": {
    "scrolled": true
   },
   "outputs": [
    {
     "name": "stdout",
     "output_type": "stream",
     "text": [
      "** La ultima fecha de ficheros es:  20210731\n",
      "                                                    0\n",
      "0                   Homo Deus - Yuval Noah Harari.txt\n",
      "1            El planeta americano - Vicente Verdu.txt\n",
      "2   De que hablo cuando hablo de co - Haruki Murak...\n",
      "3             El baston runico - Michael Moorcock.txt\n",
      "4             Papelucho historiador - Marcela Paz.txt\n",
      "5   El caballero de las espadas - Michael Moorcock...\n",
      "6       El dragon en la espada - Michael Moorcock.txt\n",
      "7                 Diario de Ana Frank - Ana Frank.txt\n",
      "8                            Edipo Rey - Sofocles.txt\n",
      "9              La cantante calva - Eugene Ionesco.txt\n",
      "10       La vida de Lazarillo de Tormes - Anonimo.txt\n",
      "11            Las brujas de Salem - Arthur Miller.txt\n",
      "12                            Cosmos - Carl Sagan.txt\n",
      "13     Historia de dos ciudades - Charles Dickens.txt\n",
      "14  Ami, el nino de las estrellas - Enrique Barrio...\n",
      "15           La forma del agua - Andrea Camilleri.txt\n",
      "16                   Cantar del Mio Cid - Anonimo.txt\n",
      "17  Corazon tan blanco _ A Heart So - Javier Maria...\n",
      "18                  La tabla rasa - Steven Pinker.txt\n",
      "19           El ascenso de Endymion - Dan Simmons.txt\n",
      "20       El cuento de la criada - Margaret Atwood.txt\n",
      "21           Cuentos de Eva Luna - Isabel Allende.txt\n",
      "22                  Hijo de ladron - Manuel Rojas.txt\n",
      "23       El Principito - Antoine de Saint-Exupery.txt\n",
      "24     El desierto de los tartaros - Dino Buzzati.txt\n",
      "25  Cien anos de soledad - Garcia Marquez, Gabriel...\n",
      "26  Anton Chejov - Los campesinos - Biblioteca Vir...\n",
      "27           Huerfanos de la Helice - Dan Simmons.txt\n"
     ]
    }
   ],
   "source": [
    "files = seleccion_txt(path_calibre)"
   ]
  },
  {
   "cell_type": "code",
   "execution_count": 120,
   "id": "d603b5fd",
   "metadata": {},
   "outputs": [],
   "source": [
    "doc_list = [lee_txt(x) for x in files]"
   ]
  },
  {
   "cell_type": "code",
   "execution_count": null,
   "id": "9db01331",
   "metadata": {},
   "outputs": [],
   "source": [
    "params = {\n",
    "    'tfidf_max_df':          .8,  # proporción de documentos. si lo bajamos quitamos los muy frecuentes\n",
    "    'tfidf_min_df':          .2,  # % de docs. Si lo subo quito palabras poco frecuentes\n",
    "    'tfidf_analyzer':        'word',\n",
    "    'tfidf_stop_words':      True,\n",
    "    'tfidf_ngram_range_min': 1,\n",
    "    'tfidf_ngram_range_max': 2,\n",
    "    'tfidf_strip_accents':   False,\n",
    "    'tfidf_num_keywords':    5\n",
    "}\n",
    "\n",
    "vector_matrix, vocab, doc_freq = tf_idf_preprocessing(doc_list, params)\n",
    "\n",
    "# print(vocab)\n",
    "# print(doc_freq)\n",
    "# print(vector_matrix.todense())"
   ]
  },
  {
   "cell_type": "code",
   "execution_count": 650,
   "id": "6945d781",
   "metadata": {
    "scrolled": true
   },
   "outputs": [
    {
     "name": "stdout",
     "output_type": "stream",
     "text": [
      "De que hablo cuando hablo de co - Haruki Murakami.txt\n"
     ]
    }
   ],
   "source": [
    "i = 2\n",
    "\n",
    "print(get_filename(files[i]))\n",
    "texto = doc_list[i]\n",
    "\n",
    "l_authors = get_fake_authors(texto)\n",
    "f_authors = ' '.join(l_authors)\n",
    "\n",
    "f_authors\n",
    "\n",
    "l_title = get_fake_title(vector_matrix, vocab, i, l_authors)"
   ]
  },
  {
   "cell_type": "code",
   "execution_count": 651,
   "id": "a5549b8b",
   "metadata": {},
   "outputs": [
    {
     "data": {
      "text/plain": [
       "'Nueva York'"
      ]
     },
     "execution_count": 651,
     "metadata": {},
     "output_type": "execute_result"
    }
   ],
   "source": [
    "f_authors"
   ]
  },
  {
   "cell_type": "code",
   "execution_count": 652,
   "id": "838a2c3c",
   "metadata": {},
   "outputs": [
    {
     "data": {
      "text/plain": [
       "'Novelista Carrera Kilómetro'"
      ]
     },
     "execution_count": 652,
     "metadata": {},
     "output_type": "execute_result"
    }
   ],
   "source": [
    "' '.join(l_title)"
   ]
  }
 ],
 "metadata": {
  "jupytext": {
   "formats": "ipynb,py"
  },
  "kernelspec": {
   "display_name": "Python 3",
   "language": "python",
   "name": "python3"
  },
  "language_info": {
   "codemirror_mode": {
    "name": "ipython",
    "version": 3
   },
   "file_extension": ".py",
   "mimetype": "text/x-python",
   "name": "python",
   "nbconvert_exporter": "python",
   "pygments_lexer": "ipython3",
   "version": "3.8.8"
  }
 },
 "nbformat": 4,
 "nbformat_minor": 5
}
