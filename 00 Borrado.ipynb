{
 "cells": [
  {
   "cell_type": "code",
   "execution_count": 1,
   "metadata": {},
   "outputs": [
    {
     "name": "stdout",
     "output_type": "stream",
     "text": [
      "iteración 1\n",
      "iteración 2\n",
      "Hemos terminado. Hay 235 libros\n"
     ]
    }
   ],
   "source": [
    "#borramos libros que no nos molan. para esto\n",
    "\n",
    "# traemos la libreria\n",
    "from utils import Biblioteca\n",
    "biblio=Biblioteca()"
   ]
  },
  {
   "cell_type": "code",
   "execution_count": 2,
   "metadata": {},
   "outputs": [],
   "source": [
    "# Actualizamos los archivos locales:\n",
    "biblio.save_locally()"
   ]
  },
  {
   "cell_type": "code",
   "execution_count": 3,
   "metadata": {},
   "outputs": [],
   "source": [
    "# ahora borramos manualmente del csv los libros que no nos gustan y guardamos el csv"
   ]
  },
  {
   "cell_type": "code",
   "execution_count": 4,
   "metadata": {},
   "outputs": [
    {
     "data": {
      "text/plain": [
       "[43, 121]"
      ]
     },
     "execution_count": 4,
     "metadata": {},
     "output_type": "execute_result"
    }
   ],
   "source": [
    "# detectamos los que borré localmente\n",
    "import pandas as pd\n",
    "df = pd.read_csv('data_med/biblio_simple.csv', index_col=0)\n",
    "ids = list(df.index)\n",
    "maxi = max(ids)\n",
    "# identificamos cuál faltan en rango 1-maxi\n",
    "faltan = [x for x in range(1, maxi+1) if x not in ids]\n",
    "faltan"
   ]
  },
  {
   "cell_type": "code",
   "execution_count": null,
   "metadata": {},
   "outputs": [
    {
     "name": "stdout",
     "output_type": "stream",
     "text": [
      "Hay 85 libros con nLibro=121\n",
      "Error en borrado masivo de libros\n",
      "{'code': 107, 'error': 'cannot route DELETE /1/classes/libros/5c9a67f7fefa353dac0019c2'}\n"
     ]
    }
   ],
   "source": [
    "# 1. las capsulas\n",
    "from utils import borrar_batch_capsulas\n",
    "borrar_batch_capsulas(id_borrar)"
   ]
  },
  {
   "cell_type": "code",
   "execution_count": null,
   "metadata": {},
   "outputs": [
    {
     "name": "stdout",
     "output_type": "stream",
     "text": [
      "se debe hacer algo como lo siguiente \n",
      "\n",
      "    db = utils_mongo.get_db()\n",
      "    a = db.libros.delete_many({'nLibro': 121})\n",
      "    \n"
     ]
    }
   ],
   "source": [
    "# No se pueden borrar desde parse. Es posible que sea por cómo se subieron. probar desde la web back4app\n",
    "# sino,  borramos las capsulas directamente desde mongo\n",
    "from utils_mongo import borrar_objetos\n",
    "borrar_objetos(id_borrar)"
   ]
  },
  {
   "cell_type": "code",
   "execution_count": null,
   "metadata": {},
   "outputs": [
    {
     "name": "stdout",
     "output_type": "stream",
     "text": [
      "**test ['_User', 'librosSum', 'libros', 'diccionario', '_Role', 'objectlabs-system', 'objectlabs-system.admin.collections', '_SCHEMA', '_log']\n"
     ]
    }
   ],
   "source": [
    "from utils_mongo import get_db\n",
    "db = get_db()\n",
    "a = db.libros.delete_many({'nLibro': 121})"
   ]
  },
  {
   "cell_type": "code",
   "execution_count": null,
   "metadata": {},
   "outputs": [
    {
     "name": "stdout",
     "output_type": "stream",
     "text": [
      "200\n"
     ]
    }
   ],
   "source": [
    "# 2. el summary\n",
    "from utils import borrar_de_summary\n",
    "borrar_de_summary(id_borrar)"
   ]
  }
 ],
 "metadata": {
  "kernelspec": {
   "display_name": "Python 3",
   "language": "python",
   "name": "python3"
  },
  "language_info": {
   "codemirror_mode": {
    "name": "ipython",
    "version": 3
   },
   "file_extension": ".py",
   "mimetype": "text/x-python",
   "name": "python",
   "nbconvert_exporter": "python",
   "pygments_lexer": "ipython3",
   "version": "3.8.8"
  }
 },
 "nbformat": 4,
 "nbformat_minor": 2
}
