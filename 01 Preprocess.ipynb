{
 "cells": [
  {
   "cell_type": "code",
   "execution_count": 1,
   "id": "0e5e91f6",
   "metadata": {},
   "outputs": [],
   "source": [
    "%load_ext autoreload\n",
    "%autoreload 2"
   ]
  },
  {
   "cell_type": "code",
   "execution_count": 2,
   "id": "8c6ea7ea",
   "metadata": {},
   "outputs": [],
   "source": [
    "PATH_CALIBRE = 'c:/Users/milen/Biblioteca de calibre/'\n",
    "lang = \"ES\"  # >>>"
   ]
  },
  {
   "cell_type": "code",
   "execution_count": null,
   "id": "317e0835",
   "metadata": {},
   "outputs": [],
   "source": [
    "# [print(x) for x in elige_libros_aleatorios(1)]"
   ]
  },
  {
   "cell_type": "markdown",
   "id": "bf188fcd",
   "metadata": {},
   "source": [
    "# 1 Selección de libros"
   ]
  },
  {
   "cell_type": "markdown",
   "id": "5b725f61",
   "metadata": {},
   "source": [
    "## a) Un libro en particular"
   ]
  },
  {
   "cell_type": "code",
   "execution_count": null,
   "id": "88889840",
   "metadata": {},
   "outputs": [],
   "source": [
    "one_book = True"
   ]
  },
  {
   "cell_type": "code",
   "execution_count": null,
   "id": "3993096c",
   "metadata": {},
   "outputs": [],
   "source": [
    "# i) por el más reciente\n",
    "last, all_ = seleccion_txt(PATH_CALIBRE)\n",
    "book = get_filename(last[0], True)\n",
    "book"
   ]
  },
  {
   "cell_type": "code",
   "execution_count": null,
   "id": "d9f55b9d",
   "metadata": {
    "scrolled": true
   },
   "outputs": [],
   "source": [
    "# ii) alternativamente, por patrón\n",
    "# pat='Huasca'#<<<<<<\n",
    "# book=[get_filename(x, True) for x in all_ if pat in x][0]\n",
    "# book"
   ]
  },
  {
   "cell_type": "code",
   "execution_count": null,
   "id": "127a15b1",
   "metadata": {},
   "outputs": [],
   "source": [
    "file = [x for x in all_ if book in x]"
   ]
  },
  {
   "cell_type": "markdown",
   "id": "13a6fe54",
   "metadata": {},
   "source": [
    "### a.1) libros de referencia para hacer el tf-idf"
   ]
  },
  {
   "cell_type": "code",
   "execution_count": null,
   "id": "fc423de0",
   "metadata": {},
   "outputs": [],
   "source": [
    "date_es = 20220703 if lang == 'EN' else 20200504\n",
    "files_es, _ = seleccion_txt(PATH_CALIBRE, fecha=date_es)\n",
    "files = file + files_es\n",
    "doc_list = [txt_read(x) for x in files]"
   ]
  },
  {
   "cell_type": "markdown",
   "id": "b5cb75d5",
   "metadata": {},
   "source": [
    "## b) De última extracción calibre"
   ]
  },
  {
   "cell_type": "code",
   "execution_count": 6,
   "id": "e7ba2cda",
   "metadata": {},
   "outputs": [
    {
     "name": "stdout",
     "output_type": "stream",
     "text": [
      "** La ultima fecha de ficheros es:  20231015\n",
      "                                                    0\n",
      "0     Por que mentimos_. en especial - Dan Ariely.txt\n",
      "1                  Metro 2033 - Dmitry Glukhovsky.txt\n",
      "2    La Araucana - Don Alonso De Ercilla y Zuniga.txt\n",
      "3             Cuentos completos - Edgar Allan Poe.txt\n",
      "4                        Eureka - Edgar Allan Poe.txt\n",
      "5   Los crimenes de la rue Morgue - Edgar Allan Po...\n",
      "6      Asi hablo Zaratustra - Friedrich Nietzsche.txt\n",
      "7           Ante todo no hagas dano - Henry Marsh.txt\n",
      "8                              La Iliada - Homero.txt\n",
      "9                              La Odisea - Homero.txt\n",
      "10               Los ninos del Brasil - Ira Levin.txt\n",
      "11                       Ygdrasil - Jorge Baradit.txt\n",
      "12               Don Juan Tenorio - Jose Zorrilla.txt\n",
      "13    El Capital (P. Scaron) Libro te - Karl Marx.txt\n",
      "14  Electrodinamica cuantica - Richard P. Feynman.txt\n",
      "15       Seis piezas faciles - Richard P. Feynman.txt\n",
      "16  _Que te importa lo que piensen - Richard P. Fe...\n",
      "17           Lagrimas en la lluvia - Rosa Montero.txt\n",
      "18  El mundo perdido (edicion ilust - Sir Arthur C...\n",
      "19  La tabla rasa_ La negacion mode - Steven Pinke...\n",
      "20  El economista camuflado ataca d - Tim Harford.txt\n",
      "21                   Los Miserables - Victor Hugo.txt\n"
     ]
    }
   ],
   "source": [
    "from utils import get_books\n",
    "doc_list, files = get_books(PATH_CALIBRE)\n",
    "# files"
   ]
  },
  {
   "cell_type": "markdown",
   "id": "e169faba",
   "metadata": {},
   "source": [
    "# 2 Fakes\n",
    "Creación de título y autor falso"
   ]
  },
  {
   "cell_type": "code",
   "execution_count": 8,
   "id": "ae84c3b9",
   "metadata": {},
   "outputs": [
    {
     "name": "stderr",
     "output_type": "stream",
     "text": [
      "c:\\Users\\milen\\AppData\\Local\\Programs\\Python\\Python38\\lib\\site-packages\\sklearn\\feature_extraction\\text.py:388: UserWarning: Your stop_words may be inconsistent with your preprocessing. Tokenizing the stop words generated tokens ['ll', 've'] not in stop_words.\n",
      "  warnings.warn('Your stop_words may be inconsistent with '\n"
     ]
    }
   ],
   "source": [
    "from utils_textmining import get_word_matrix\n",
    "vector_matrix, vocab, _ = get_word_matrix(doc_list) # tfidf"
   ]
  },
  {
   "cell_type": "code",
   "execution_count": 9,
   "id": "4cfbae5b",
   "metadata": {},
   "outputs": [
    {
     "name": "stdout",
     "output_type": "stream",
     "text": [
      "\n",
      "** Iniciando: Get fakes\n",
      "** Generando título con OpenAI\n",
      "      Título generado:  El engaño en los experimentos sociales: dólares y trampas\n",
      "  El engaño en los experimentos sociales: dólares y trampas (Por que mentimos_. en especial a no)\n",
      "** Generando título con OpenAI\n",
      "      Título generado:  Túnel de estaciones: El metro que miró preguntó\n",
      "  Túnel de estaciones: El metro que miró preguntó (Metro 2033)\n",
      "** Generando título con OpenAI\n",
      "      Título generado:  Armas bárbaro: furia en el canto gratis\n",
      "  Armas bárbaro: furia en el canto gratis (La Araucana)\n",
      "** Generando título con OpenAI\n",
      "      Título generado:  Globo en el aposento: El relato del caballero\n",
      "  Globo en el aposento: El relato del caballero (Cuentos completos)\n",
      "** Generando título con OpenAI\n",
      "      Título generado:  La tendencia de los átomos en el universo\n",
      "  La tendencia de los átomos en el universo (Eureka)\n",
      "** Generando título con OpenAI\n",
      "      Título generado:  Crimen francés: Voces agudas desde el cuarto piso\n",
      "  Crimen francés: Voces agudas desde el cuarto piso (Los crimenes de la rue Morgue)\n",
      "** Generando título con OpenAI\n",
      "      Título generado:  La Caverna de la Sabiduría Habló: La Virtud de la Felicidad\n",
      "  La Caverna de la Sabiduría Habló: La Virtud de la Felicidad (Asi hablo Zaratustra)\n",
      "** Generando título con OpenAI\n",
      "      Título generado:  Operación cerebral: Pacientes, tumor y cirugía en el hospital\n",
      "  Operación cerebral: Pacientes, tumor y cirugía en el hospital (Ante todo no hagas dano)\n",
      "** Generando título con OpenAI\n",
      "      Título generado:  Las Naves Divinas: Combate de Dioses Valientes\n",
      "  Las Naves Divinas: Combate de Dioses Valientes (La Iliada)\n",
      "** Generando título con OpenAI\n",
      "      Título generado:  El Palacio de los Dioses: Oh Nave de Ánimo\n",
      "  El Palacio de los Dioses: Oh Nave de Ánimo (La Odisea)\n",
      "** Generando título con OpenAI\n",
      "      Título generado:  Mesa blanca, gesto de miró\n",
      "  Mesa blanca, gesto de miró (Los ninos del Brasil)\n",
      "** Generando título con OpenAI\n",
      "      Título generado:  El profeta de la información: datos y tecnología\n",
      "  El profeta de la información: datos y tecnología (Ygdrasil)\n",
      "** Generando título con OpenAI\n",
      "      Título generado:  La estatua del capitán: un lance sepulcral\n",
      "  La estatua del capitán: un lance sepulcral (Don Juan Tenorio)\n",
      "** Generando título con OpenAI\n",
      "      Título generado:  Capital y renta: Los secretos de la ganancia\n",
      "  Capital y renta: Los secretos de la ganancia (El Capital (P. Scaron) Libro tercer)\n",
      "** Generando título con OpenAI\n",
      "      Título generado:  Flechas de cristal: Una teoría cuántica fascinante\n",
      "  Flechas de cristal: Una teoría cuántica fascinante (Electrodinamica cuantica)\n",
      "** Generando título con OpenAI\n",
      "      Título generado:  Teoría de partículas: La energía cuántica de átomos\n",
      "  Teoría de partículas: La energía cuántica de átomos (Seis piezas faciles)\n",
      "** Generando título con OpenAI\n",
      "      Título generado:  Informe de motores: Problemas y soluciones\n",
      "  Informe de motores: Problemas y soluciones (_Que te importa lo que piensen los)\n",
      "** Generando título con OpenAI\n",
      "      Título generado:  Móvil en pantalla: el inspector miró\n",
      "  Móvil en pantalla: el inspector miró (Lagrimas en la lluvia)\n",
      "** Generando título con OpenAI\n",
      "      Título generado:  El Profesor y el Señor de los Monos\n",
      "  El Profesor y el Señor de los Monos (El mundo perdido (edicion ilustrada)\n",
      "** Generando título con OpenAI\n",
      "      Título generado:  La Naturaleza Humana: Una Perspectiva Social\n",
      "  La Naturaleza Humana: Una Perspectiva Social (La tabla rasa_ La negacion moderna)\n",
      "** Generando título con OpenAI\n",
      "      Título generado:  Dólares y precios: El mercado de las ganancias\n",
      "  Dólares y precios: El mercado de las ganancias (El economista camuflado ataca de nu)\n",
      "** Generando título con OpenAI\n",
      "      Título generado:  La niña respondió al anciano en la sala\n",
      "  La niña respondió al anciano en la sala (Los Miserables)\n",
      "** Finalizado Get fakes.  Ha tardado 00:00:26\n"
     ]
    }
   ],
   "source": [
    "from utils import get_fakes\n",
    "dic_fake, di_counts = get_fakes(doc_list, files, vector_matrix, vocab, lang, openAI=True)"
   ]
  },
  {
   "cell_type": "code",
   "execution_count": null,
   "id": "103c7f90",
   "metadata": {},
   "outputs": [],
   "source": [
    "if one_book:\n",
    "    dic_fake = {0: dic_fake[0]}"
   ]
  },
  {
   "cell_type": "code",
   "execution_count": 11,
   "id": "9a310d47",
   "metadata": {
    "scrolled": true
   },
   "outputs": [
    {
     "data": {
      "text/html": [
       "<div>\n",
       "<style scoped>\n",
       "    .dataframe tbody tr th:only-of-type {\n",
       "        vertical-align: middle;\n",
       "    }\n",
       "\n",
       "    .dataframe tbody tr th {\n",
       "        vertical-align: top;\n",
       "    }\n",
       "\n",
       "    .dataframe thead th {\n",
       "        text-align: right;\n",
       "    }\n",
       "</style>\n",
       "<table border=\"1\" class=\"dataframe\">\n",
       "  <thead>\n",
       "    <tr style=\"text-align: right;\">\n",
       "      <th></th>\n",
       "      <th>0</th>\n",
       "      <th>1</th>\n",
       "      <th>2</th>\n",
       "      <th>3</th>\n",
       "      <th>4</th>\n",
       "      <th>5</th>\n",
       "      <th>6</th>\n",
       "      <th>7</th>\n",
       "      <th>8</th>\n",
       "      <th>9</th>\n",
       "      <th>...</th>\n",
       "      <th>12</th>\n",
       "      <th>13</th>\n",
       "      <th>14</th>\n",
       "      <th>15</th>\n",
       "      <th>16</th>\n",
       "      <th>17</th>\n",
       "      <th>18</th>\n",
       "      <th>19</th>\n",
       "      <th>20</th>\n",
       "      <th>21</th>\n",
       "    </tr>\n",
       "  </thead>\n",
       "  <tbody>\n",
       "    <tr>\n",
       "      <th>author</th>\n",
       "      <td>Dan Ariely</td>\n",
       "      <td>Dmitry Glukhovsky</td>\n",
       "      <td>Don Alonso De Ercilla y Zuniga</td>\n",
       "      <td>Edgar Allan Poe</td>\n",
       "      <td>Edgar Allan Poe</td>\n",
       "      <td>Edgar Allan Poe</td>\n",
       "      <td>Friedrich Nietzsche</td>\n",
       "      <td>Henry Marsh</td>\n",
       "      <td>Homero</td>\n",
       "      <td>Homero</td>\n",
       "      <td>...</td>\n",
       "      <td>Jose Zorrilla</td>\n",
       "      <td>Karl Marx</td>\n",
       "      <td>Richard P. Feynman</td>\n",
       "      <td>Richard P. Feynman</td>\n",
       "      <td>Richard P. Feynman</td>\n",
       "      <td>Rosa Montero</td>\n",
       "      <td>Sir Arthur Conan Doyle</td>\n",
       "      <td>Steven Pinker</td>\n",
       "      <td>Tim Harford</td>\n",
       "      <td>Victor Hugo</td>\n",
       "    </tr>\n",
       "    <tr>\n",
       "      <th>title</th>\n",
       "      <td>Por que mentimos_. en especial a no</td>\n",
       "      <td>Metro 2033</td>\n",
       "      <td>La Araucana</td>\n",
       "      <td>Cuentos completos</td>\n",
       "      <td>Eureka</td>\n",
       "      <td>Los crimenes de la rue Morgue</td>\n",
       "      <td>Asi hablo Zaratustra</td>\n",
       "      <td>Ante todo no hagas dano</td>\n",
       "      <td>La Iliada</td>\n",
       "      <td>La Odisea</td>\n",
       "      <td>...</td>\n",
       "      <td>Don Juan Tenorio</td>\n",
       "      <td>El Capital (P. Scaron) Libro tercer</td>\n",
       "      <td>Electrodinamica cuantica</td>\n",
       "      <td>Seis piezas faciles</td>\n",
       "      <td>_Que te importa lo que piensen los</td>\n",
       "      <td>Lagrimas en la lluvia</td>\n",
       "      <td>El mundo perdido (edicion ilustrada</td>\n",
       "      <td>La tabla rasa_ La negacion moderna</td>\n",
       "      <td>El economista camuflado ataca de nu</td>\n",
       "      <td>Los Miserables</td>\n",
       "    </tr>\n",
       "    <tr>\n",
       "      <th>fakeAuthor</th>\n",
       "      <td>Universidad David</td>\n",
       "      <td>Artyom Stalker</td>\n",
       "      <td>Araucana Zuñiga</td>\n",
       "      <td>Mr John</td>\n",
       "      <td>Madler Dios</td>\n",
       "      <td>Morgue Dupin</td>\n",
       "      <td>Véase Nietzsche</td>\n",
       "      <td>Ucrania Mike</td>\n",
       "      <td>Aquiles Héctor</td>\n",
       "      <td>Odiseo Eumeo</td>\n",
       "      <td>...</td>\n",
       "      <td>Juan Oh</td>\n",
       "      <td>Economy Smith</td>\n",
       "      <td>Fig Figura</td>\n",
       "      <td>Tierra P2</td>\n",
       "      <td>Nasa Arlene</td>\n",
       "      <td>Tierra Nopal</td>\n",
       "      <td>Londres Dios</td>\n",
       "      <td>Harris New</td>\n",
       "      <td>Gobiernos Internet</td>\n",
       "      <td>Valjean Marius</td>\n",
       "    </tr>\n",
       "    <tr>\n",
       "      <th>fakeTitle</th>\n",
       "      <td>El engaño en los experimentos sociales: dólare...</td>\n",
       "      <td>Túnel de estaciones: El metro que miró preguntó</td>\n",
       "      <td>Armas bárbaro: furia en el canto gratis</td>\n",
       "      <td>Globo en el aposento: El relato del caballero</td>\n",
       "      <td>La tendencia de los átomos en el universo</td>\n",
       "      <td>Crimen francés: Voces agudas desde el cuarto piso</td>\n",
       "      <td>La Caverna de la Sabiduría Habló: La Virtud de...</td>\n",
       "      <td>Operación cerebral: Pacientes, tumor y cirugía...</td>\n",
       "      <td>Las Naves Divinas: Combate de Dioses Valientes</td>\n",
       "      <td>El Palacio de los Dioses: Oh Nave de Ánimo</td>\n",
       "      <td>...</td>\n",
       "      <td>La estatua del capitán: un lance sepulcral</td>\n",
       "      <td>Capital y renta: Los secretos de la ganancia</td>\n",
       "      <td>Flechas de cristal: Una teoría cuántica fascin...</td>\n",
       "      <td>Teoría de partículas: La energía cuántica de á...</td>\n",
       "      <td>Informe de motores: Problemas y soluciones</td>\n",
       "      <td>Móvil en pantalla: el inspector miró</td>\n",
       "      <td>El Profesor y el Señor de los Monos</td>\n",
       "      <td>La Naturaleza Humana: Una Perspectiva Social</td>\n",
       "      <td>Dólares y precios: El mercado de las ganancias</td>\n",
       "      <td>La niña respondió al anciano en la sala</td>\n",
       "    </tr>\n",
       "    <tr>\n",
       "      <th>path</th>\n",
       "      <td>c:/Users/milen/Biblioteca de calibre\\Dan Ariel...</td>\n",
       "      <td>c:/Users/milen/Biblioteca de calibre\\Dmitry Gl...</td>\n",
       "      <td>c:/Users/milen/Biblioteca de calibre\\Don Alons...</td>\n",
       "      <td>c:/Users/milen/Biblioteca de calibre\\Edgar All...</td>\n",
       "      <td>c:/Users/milen/Biblioteca de calibre\\Edgar All...</td>\n",
       "      <td>c:/Users/milen/Biblioteca de calibre\\Edgar All...</td>\n",
       "      <td>c:/Users/milen/Biblioteca de calibre\\Friedrich...</td>\n",
       "      <td>c:/Users/milen/Biblioteca de calibre\\Henry Mar...</td>\n",
       "      <td>c:/Users/milen/Biblioteca de calibre\\Homero\\La...</td>\n",
       "      <td>c:/Users/milen/Biblioteca de calibre\\Homero\\La...</td>\n",
       "      <td>...</td>\n",
       "      <td>c:/Users/milen/Biblioteca de calibre\\Jose Zorr...</td>\n",
       "      <td>c:/Users/milen/Biblioteca de calibre\\Karl Marx...</td>\n",
       "      <td>c:/Users/milen/Biblioteca de calibre\\Richard P...</td>\n",
       "      <td>c:/Users/milen/Biblioteca de calibre\\Richard P...</td>\n",
       "      <td>c:/Users/milen/Biblioteca de calibre\\Richard P...</td>\n",
       "      <td>c:/Users/milen/Biblioteca de calibre\\Rosa Mont...</td>\n",
       "      <td>c:/Users/milen/Biblioteca de calibre\\Sir Arthu...</td>\n",
       "      <td>c:/Users/milen/Biblioteca de calibre\\Steven Pi...</td>\n",
       "      <td>c:/Users/milen/Biblioteca de calibre\\Tim Harfo...</td>\n",
       "      <td>c:/Users/milen/Biblioteca de calibre\\Victor Hu...</td>\n",
       "    </tr>\n",
       "    <tr>\n",
       "      <th>listo</th>\n",
       "      <td>False</td>\n",
       "      <td>False</td>\n",
       "      <td>False</td>\n",
       "      <td>False</td>\n",
       "      <td>False</td>\n",
       "      <td>False</td>\n",
       "      <td>False</td>\n",
       "      <td>False</td>\n",
       "      <td>False</td>\n",
       "      <td>False</td>\n",
       "      <td>...</td>\n",
       "      <td>False</td>\n",
       "      <td>False</td>\n",
       "      <td>False</td>\n",
       "      <td>False</td>\n",
       "      <td>False</td>\n",
       "      <td>False</td>\n",
       "      <td>False</td>\n",
       "      <td>False</td>\n",
       "      <td>False</td>\n",
       "      <td>False</td>\n",
       "    </tr>\n",
       "    <tr>\n",
       "      <th>i</th>\n",
       "      <td>0</td>\n",
       "      <td>1</td>\n",
       "      <td>2</td>\n",
       "      <td>3</td>\n",
       "      <td>4</td>\n",
       "      <td>5</td>\n",
       "      <td>6</td>\n",
       "      <td>7</td>\n",
       "      <td>8</td>\n",
       "      <td>9</td>\n",
       "      <td>...</td>\n",
       "      <td>12</td>\n",
       "      <td>13</td>\n",
       "      <td>14</td>\n",
       "      <td>15</td>\n",
       "      <td>16</td>\n",
       "      <td>17</td>\n",
       "      <td>18</td>\n",
       "      <td>19</td>\n",
       "      <td>20</td>\n",
       "      <td>21</td>\n",
       "    </tr>\n",
       "    <tr>\n",
       "      <th>names</th>\n",
       "      <td>[universidad, david, eynav, journal, smorc, yo...</td>\n",
       "      <td>[artyom, melnik, kan, vdnkh, hunter, stalker, ...</td>\n",
       "      <td>[don, araucana, alonso, ercilla, zuñiga, lauta...</td>\n",
       "      <td>[mr, dios, bon, marie, dupin, júpiter, york, j...</td>\n",
       "      <td>[dios, laplace, galaxia, neptuno, eureka, kepl...</td>\n",
       "      <td>[dupin, espanaye, morgue, crímenes, edgar, all...</td>\n",
       "      <td>[véase, nietzsche, evangelio, mateo, jesús, ec...</td>\n",
       "      <td>[bueno, ucrania, londres, igor, uci, melanie, ...</td>\n",
       "      <td>[zeus, héctor, aquiles, agamenón, patroclo, ay...</td>\n",
       "      <td>[odiseo, telémaco, zeus, atenea, penelopea, re...</td>\n",
       "      <td>...</td>\n",
       "      <td>[don, juan, dios, escena, inés, escultor, luis...</td>\n",
       "      <td>[marx, ii, londres, parís, iii, inglaterra, jo...</td>\n",
       "      <td>[fig, figura, vds, newton, x1, t1, x2, mev, t2...</td>\n",
       "      <td>[tierra, sol, luna, newton, p12, p2, p1, júpit...</td>\n",
       "      <td>[sr, nasa, arlene, rogers, «no, feynman, kutyn...</td>\n",
       "      <td>[bruna, lizard, nopal, husky, chi, habib, heri...</td>\n",
       "      <td>[malone, bueno, gladys, dios, zambo, white, ma...</td>\n",
       "      <td>[wilson, estados, trivers, harris, pinker, uni...</td>\n",
       "      <td>[camerún, londres, ricardo, internet, reino, s...</td>\n",
       "      <td>[marius, jean, valjean, cosette, thenardier, j...</td>\n",
       "    </tr>\n",
       "    <tr>\n",
       "      <th>idioma</th>\n",
       "      <td>ES</td>\n",
       "      <td>ES</td>\n",
       "      <td>ES</td>\n",
       "      <td>ES</td>\n",
       "      <td>ES</td>\n",
       "      <td>ES</td>\n",
       "      <td>ES</td>\n",
       "      <td>ES</td>\n",
       "      <td>ES</td>\n",
       "      <td>ES</td>\n",
       "      <td>...</td>\n",
       "      <td>ES</td>\n",
       "      <td>ES</td>\n",
       "      <td>ES</td>\n",
       "      <td>ES</td>\n",
       "      <td>ES</td>\n",
       "      <td>ES</td>\n",
       "      <td>ES</td>\n",
       "      <td>ES</td>\n",
       "      <td>ES</td>\n",
       "      <td>ES</td>\n",
       "    </tr>\n",
       "  </tbody>\n",
       "</table>\n",
       "<p>9 rows × 22 columns</p>\n",
       "</div>"
      ],
      "text/plain": [
       "                                                           0   \\\n",
       "author                                             Dan Ariely   \n",
       "title                     Por que mentimos_. en especial a no   \n",
       "fakeAuthor                                  Universidad David   \n",
       "fakeTitle   El engaño en los experimentos sociales: dólare...   \n",
       "path        c:/Users/milen/Biblioteca de calibre\\Dan Ariel...   \n",
       "listo                                                   False   \n",
       "i                                                           0   \n",
       "names       [universidad, david, eynav, journal, smorc, yo...   \n",
       "idioma                                                     ES   \n",
       "\n",
       "                                                           1   \\\n",
       "author                                      Dmitry Glukhovsky   \n",
       "title                                              Metro 2033   \n",
       "fakeAuthor                                     Artyom Stalker   \n",
       "fakeTitle     Túnel de estaciones: El metro que miró preguntó   \n",
       "path        c:/Users/milen/Biblioteca de calibre\\Dmitry Gl...   \n",
       "listo                                                   False   \n",
       "i                                                           1   \n",
       "names       [artyom, melnik, kan, vdnkh, hunter, stalker, ...   \n",
       "idioma                                                     ES   \n",
       "\n",
       "                                                           2   \\\n",
       "author                         Don Alonso De Ercilla y Zuniga   \n",
       "title                                             La Araucana   \n",
       "fakeAuthor                                    Araucana Zuñiga   \n",
       "fakeTitle             Armas bárbaro: furia en el canto gratis   \n",
       "path        c:/Users/milen/Biblioteca de calibre\\Don Alons...   \n",
       "listo                                                   False   \n",
       "i                                                           2   \n",
       "names       [don, araucana, alonso, ercilla, zuñiga, lauta...   \n",
       "idioma                                                     ES   \n",
       "\n",
       "                                                           3   \\\n",
       "author                                        Edgar Allan Poe   \n",
       "title                                       Cuentos completos   \n",
       "fakeAuthor                                            Mr John   \n",
       "fakeTitle       Globo en el aposento: El relato del caballero   \n",
       "path        c:/Users/milen/Biblioteca de calibre\\Edgar All...   \n",
       "listo                                                   False   \n",
       "i                                                           3   \n",
       "names       [mr, dios, bon, marie, dupin, júpiter, york, j...   \n",
       "idioma                                                     ES   \n",
       "\n",
       "                                                           4   \\\n",
       "author                                        Edgar Allan Poe   \n",
       "title                                                  Eureka   \n",
       "fakeAuthor                                        Madler Dios   \n",
       "fakeTitle           La tendencia de los átomos en el universo   \n",
       "path        c:/Users/milen/Biblioteca de calibre\\Edgar All...   \n",
       "listo                                                   False   \n",
       "i                                                           4   \n",
       "names       [dios, laplace, galaxia, neptuno, eureka, kepl...   \n",
       "idioma                                                     ES   \n",
       "\n",
       "                                                           5   \\\n",
       "author                                        Edgar Allan Poe   \n",
       "title                           Los crimenes de la rue Morgue   \n",
       "fakeAuthor                                       Morgue Dupin   \n",
       "fakeTitle   Crimen francés: Voces agudas desde el cuarto piso   \n",
       "path        c:/Users/milen/Biblioteca de calibre\\Edgar All...   \n",
       "listo                                                   False   \n",
       "i                                                           5   \n",
       "names       [dupin, espanaye, morgue, crímenes, edgar, all...   \n",
       "idioma                                                     ES   \n",
       "\n",
       "                                                           6   \\\n",
       "author                                    Friedrich Nietzsche   \n",
       "title                                    Asi hablo Zaratustra   \n",
       "fakeAuthor                                    Véase Nietzsche   \n",
       "fakeTitle   La Caverna de la Sabiduría Habló: La Virtud de...   \n",
       "path        c:/Users/milen/Biblioteca de calibre\\Friedrich...   \n",
       "listo                                                   False   \n",
       "i                                                           6   \n",
       "names       [véase, nietzsche, evangelio, mateo, jesús, ec...   \n",
       "idioma                                                     ES   \n",
       "\n",
       "                                                           7   \\\n",
       "author                                            Henry Marsh   \n",
       "title                                 Ante todo no hagas dano   \n",
       "fakeAuthor                                       Ucrania Mike   \n",
       "fakeTitle   Operación cerebral: Pacientes, tumor y cirugía...   \n",
       "path        c:/Users/milen/Biblioteca de calibre\\Henry Mar...   \n",
       "listo                                                   False   \n",
       "i                                                           7   \n",
       "names       [bueno, ucrania, londres, igor, uci, melanie, ...   \n",
       "idioma                                                     ES   \n",
       "\n",
       "                                                           8   \\\n",
       "author                                                 Homero   \n",
       "title                                               La Iliada   \n",
       "fakeAuthor                                     Aquiles Héctor   \n",
       "fakeTitle      Las Naves Divinas: Combate de Dioses Valientes   \n",
       "path        c:/Users/milen/Biblioteca de calibre\\Homero\\La...   \n",
       "listo                                                   False   \n",
       "i                                                           8   \n",
       "names       [zeus, héctor, aquiles, agamenón, patroclo, ay...   \n",
       "idioma                                                     ES   \n",
       "\n",
       "                                                           9   ...  \\\n",
       "author                                                 Homero  ...   \n",
       "title                                               La Odisea  ...   \n",
       "fakeAuthor                                       Odiseo Eumeo  ...   \n",
       "fakeTitle          El Palacio de los Dioses: Oh Nave de Ánimo  ...   \n",
       "path        c:/Users/milen/Biblioteca de calibre\\Homero\\La...  ...   \n",
       "listo                                                   False  ...   \n",
       "i                                                           9  ...   \n",
       "names       [odiseo, telémaco, zeus, atenea, penelopea, re...  ...   \n",
       "idioma                                                     ES  ...   \n",
       "\n",
       "                                                           12  \\\n",
       "author                                          Jose Zorrilla   \n",
       "title                                        Don Juan Tenorio   \n",
       "fakeAuthor                                            Juan Oh   \n",
       "fakeTitle          La estatua del capitán: un lance sepulcral   \n",
       "path        c:/Users/milen/Biblioteca de calibre\\Jose Zorr...   \n",
       "listo                                                   False   \n",
       "i                                                          12   \n",
       "names       [don, juan, dios, escena, inés, escultor, luis...   \n",
       "idioma                                                     ES   \n",
       "\n",
       "                                                           13  \\\n",
       "author                                              Karl Marx   \n",
       "title                     El Capital (P. Scaron) Libro tercer   \n",
       "fakeAuthor                                      Economy Smith   \n",
       "fakeTitle        Capital y renta: Los secretos de la ganancia   \n",
       "path        c:/Users/milen/Biblioteca de calibre\\Karl Marx...   \n",
       "listo                                                   False   \n",
       "i                                                          13   \n",
       "names       [marx, ii, londres, parís, iii, inglaterra, jo...   \n",
       "idioma                                                     ES   \n",
       "\n",
       "                                                           14  \\\n",
       "author                                     Richard P. Feynman   \n",
       "title                                Electrodinamica cuantica   \n",
       "fakeAuthor                                         Fig Figura   \n",
       "fakeTitle   Flechas de cristal: Una teoría cuántica fascin...   \n",
       "path        c:/Users/milen/Biblioteca de calibre\\Richard P...   \n",
       "listo                                                   False   \n",
       "i                                                          14   \n",
       "names       [fig, figura, vds, newton, x1, t1, x2, mev, t2...   \n",
       "idioma                                                     ES   \n",
       "\n",
       "                                                           15  \\\n",
       "author                                     Richard P. Feynman   \n",
       "title                                     Seis piezas faciles   \n",
       "fakeAuthor                                          Tierra P2   \n",
       "fakeTitle   Teoría de partículas: La energía cuántica de á...   \n",
       "path        c:/Users/milen/Biblioteca de calibre\\Richard P...   \n",
       "listo                                                   False   \n",
       "i                                                          15   \n",
       "names       [tierra, sol, luna, newton, p12, p2, p1, júpit...   \n",
       "idioma                                                     ES   \n",
       "\n",
       "                                                           16  \\\n",
       "author                                     Richard P. Feynman   \n",
       "title                      _Que te importa lo que piensen los   \n",
       "fakeAuthor                                        Nasa Arlene   \n",
       "fakeTitle          Informe de motores: Problemas y soluciones   \n",
       "path        c:/Users/milen/Biblioteca de calibre\\Richard P...   \n",
       "listo                                                   False   \n",
       "i                                                          16   \n",
       "names       [sr, nasa, arlene, rogers, «no, feynman, kutyn...   \n",
       "idioma                                                     ES   \n",
       "\n",
       "                                                           17  \\\n",
       "author                                           Rosa Montero   \n",
       "title                                   Lagrimas en la lluvia   \n",
       "fakeAuthor                                       Tierra Nopal   \n",
       "fakeTitle                Móvil en pantalla: el inspector miró   \n",
       "path        c:/Users/milen/Biblioteca de calibre\\Rosa Mont...   \n",
       "listo                                                   False   \n",
       "i                                                          17   \n",
       "names       [bruna, lizard, nopal, husky, chi, habib, heri...   \n",
       "idioma                                                     ES   \n",
       "\n",
       "                                                           18  \\\n",
       "author                                 Sir Arthur Conan Doyle   \n",
       "title                     El mundo perdido (edicion ilustrada   \n",
       "fakeAuthor                                       Londres Dios   \n",
       "fakeTitle                 El Profesor y el Señor de los Monos   \n",
       "path        c:/Users/milen/Biblioteca de calibre\\Sir Arthu...   \n",
       "listo                                                   False   \n",
       "i                                                          18   \n",
       "names       [malone, bueno, gladys, dios, zambo, white, ma...   \n",
       "idioma                                                     ES   \n",
       "\n",
       "                                                           19  \\\n",
       "author                                          Steven Pinker   \n",
       "title                      La tabla rasa_ La negacion moderna   \n",
       "fakeAuthor                                         Harris New   \n",
       "fakeTitle        La Naturaleza Humana: Una Perspectiva Social   \n",
       "path        c:/Users/milen/Biblioteca de calibre\\Steven Pi...   \n",
       "listo                                                   False   \n",
       "i                                                          19   \n",
       "names       [wilson, estados, trivers, harris, pinker, uni...   \n",
       "idioma                                                     ES   \n",
       "\n",
       "                                                           20  \\\n",
       "author                                            Tim Harford   \n",
       "title                     El economista camuflado ataca de nu   \n",
       "fakeAuthor                                 Gobiernos Internet   \n",
       "fakeTitle      Dólares y precios: El mercado de las ganancias   \n",
       "path        c:/Users/milen/Biblioteca de calibre\\Tim Harfo...   \n",
       "listo                                                   False   \n",
       "i                                                          20   \n",
       "names       [camerún, londres, ricardo, internet, reino, s...   \n",
       "idioma                                                     ES   \n",
       "\n",
       "                                                           21  \n",
       "author                                            Victor Hugo  \n",
       "title                                          Los Miserables  \n",
       "fakeAuthor                                     Valjean Marius  \n",
       "fakeTitle             La niña respondió al anciano en la sala  \n",
       "path        c:/Users/milen/Biblioteca de calibre\\Victor Hu...  \n",
       "listo                                                   False  \n",
       "i                                                          21  \n",
       "names       [marius, jean, valjean, cosette, thenardier, j...  \n",
       "idioma                                                     ES  \n",
       "\n",
       "[9 rows x 22 columns]"
      ]
     },
     "execution_count": 11,
     "metadata": {},
     "output_type": "execute_result"
    }
   ],
   "source": [
    "# revisamos:\n",
    "import pandas as pd\n",
    "pd.DataFrame.from_dict(dic_fake)"
   ]
  },
  {
   "cell_type": "code",
   "execution_count": 12,
   "id": "1b2f651d",
   "metadata": {},
   "outputs": [
    {
     "name": "stdout",
     "output_type": "stream",
     "text": [
      "** Creando fichero data_med/summaries.json\n",
      "** Guardado los datos  en data_med/summaries.json\n"
     ]
    }
   ],
   "source": [
    "from utils import SUMMARIES_JSON\n",
    "from utils_base import json_update\n",
    "j = {dic_fake[k]['title']: dic_fake[k] for k in dic_fake}\n",
    "json_update(j, SUMMARIES_JSON)\n",
    "\n",
    "# guardamos el json asegurando las tilde"
   ]
  },
  {
   "cell_type": "markdown",
   "id": "813f0e3d",
   "metadata": {},
   "source": [
    "# 3  Get partes. Elegir"
   ]
  },
  {
   "cell_type": "markdown",
   "id": "0b4253aa",
   "metadata": {},
   "source": [
    "#### a) por bulk, pero uno a uno"
   ]
  },
  {
   "cell_type": "code",
   "execution_count": 13,
   "id": "d20b3fb6",
   "metadata": {},
   "outputs": [
    {
     "name": "stdout",
     "output_type": "stream",
     "text": [
      "Por que mentimos_\n"
     ]
    }
   ],
   "source": [
    "i_book = 0 # << ir avanzando\n",
    "file = files[i_book]\n",
    "filename= file.split('\\\\')[-1]\n",
    "filename = filename.split('.')[0]\n",
    "filename = filename.split(' - ')[0]\n",
    "print(filename)\n",
    "texto = doc_list[i_book]"
   ]
  },
  {
   "cell_type": "markdown",
   "id": "443de09d",
   "metadata": {},
   "source": [
    "#### b) Individual (del json)"
   ]
  },
  {
   "cell_type": "code",
   "execution_count": null,
   "id": "cbe7141b",
   "metadata": {},
   "outputs": [],
   "source": [
    "j = json_read(SUMMARIES_JSON)\n",
    "titles = sorted(list(j.keys()))\n",
    "titles"
   ]
  },
  {
   "cell_type": "markdown",
   "id": "248dd481",
   "metadata": {},
   "source": [
    "## 3.1 Cortar"
   ]
  },
  {
   "cell_type": "code",
   "execution_count": 15,
   "id": "b0b2b491",
   "metadata": {},
   "outputs": [
    {
     "name": "stdout",
     "output_type": "stream",
     "text": [
      "Por que mentimos_. en especial a no\n"
     ]
    }
   ],
   "source": [
    "from utils import get_book_datas\n",
    "texto, img, titulo, d_summary = get_book_datas(filename)"
   ]
  },
  {
   "cell_type": "code",
   "execution_count": null,
   "id": "ace58679",
   "metadata": {
    "scrolled": true
   },
   "outputs": [],
   "source": [
    "from utils import cabeza_y_cola\n",
    "partes, df = cabeza_y_cola(texto, 50) # << Cuántos párrafos mostrar"
   ]
  },
  {
   "cell_type": "code",
   "execution_count": null,
   "id": "d9e1dc8b",
   "metadata": {},
   "outputs": [],
   "source": [
    "fin = 1274  # >>>\n",
    "ini = 11  # >>>\n",
    "\n",
    "d_summary['min'], d_summary['max'] = ini, fin"
   ]
  },
  {
   "cell_type": "code",
   "execution_count": null,
   "id": "e13cbc49",
   "metadata": {
    "scrolled": true
   },
   "outputs": [],
   "source": [
    "d_summary"
   ]
  },
  {
   "cell_type": "code",
   "execution_count": null,
   "id": "365dbb30",
   "metadata": {},
   "outputs": [],
   "source": [
    "json_update({d_summary['title']: d_summary}, SUMMARIES_JSON)"
   ]
  },
  {
   "cell_type": "markdown",
   "id": "6d322bbd",
   "metadata": {},
   "source": [
    "Aquí se puede saltar al 02 si solo se quiere hacer un audiobook"
   ]
  },
  {
   "cell_type": "markdown",
   "id": "a228c7ae",
   "metadata": {},
   "source": [
    "## Cortar"
   ]
  },
  {
   "cell_type": "code",
   "execution_count": null,
   "id": "971af0d3",
   "metadata": {
    "scrolled": true
   },
   "outputs": [],
   "source": [
    "partes, df = corta(partes, df, ini, fin)"
   ]
  },
  {
   "cell_type": "code",
   "execution_count": null,
   "id": "a5d1cf9c",
   "metadata": {},
   "outputs": [],
   "source": [
    "df"
   ]
  },
  {
   "cell_type": "code",
   "execution_count": null,
   "id": "722fa216",
   "metadata": {},
   "outputs": [],
   "source": [
    "la = partes[0]\n",
    "la"
   ]
  },
  {
   "cell_type": "code",
   "execution_count": null,
   "id": "4f9bcd6c",
   "metadata": {},
   "outputs": [],
   "source": [
    "capsu = rompe_parrafo(la)"
   ]
  },
  {
   "cell_type": "code",
   "execution_count": null,
   "id": "125aaf62",
   "metadata": {},
   "outputs": [],
   "source": [
    "capsu"
   ]
  },
  {
   "cell_type": "code",
   "execution_count": null,
   "id": "2891db36",
   "metadata": {
    "scrolled": true
   },
   "outputs": [],
   "source": [
    "d_summary = crea_capsulas(partes, df, lmin=300, lmax=999)"
   ]
  },
  {
   "cell_type": "code",
   "execution_count": null,
   "id": "31022475",
   "metadata": {},
   "outputs": [],
   "source": [
    "d_summary[1]"
   ]
  },
  {
   "cell_type": "code",
   "execution_count": null,
   "id": "1f92b2c3",
   "metadata": {},
   "outputs": [],
   "source": [
    "d_summary[2]"
   ]
  },
  {
   "cell_type": "code",
   "execution_count": null,
   "id": "857ec501",
   "metadata": {},
   "outputs": [],
   "source": [
    "[len(' '.join(d_summary[x]['texto'])) for x in d_summary]"
   ]
  },
  {
   "cell_type": "code",
   "execution_count": null,
   "id": "0c2cd502",
   "metadata": {},
   "outputs": [],
   "source": [
    "len(d_summary)"
   ]
  },
  {
   "cell_type": "code",
   "execution_count": null,
   "id": "a7126d23",
   "metadata": {},
   "outputs": [],
   "source": [
    "id_free = 999"
   ]
  },
  {
   "cell_type": "code",
   "execution_count": null,
   "id": "a8ab699a",
   "metadata": {},
   "outputs": [],
   "source": [
    "dic_fake[i_book][\"nCapitulos\"] = len(d_summary)\n",
    "dic_fake[i_book][\"min\"] = ini\n",
    "dic_fake[i_book][\"max\"] = fin\n",
    "dic_fake[i_book][\"idioma\"] = lang\n",
    "dic_fake[i_book][\"libroId\"] = id_free"
   ]
  },
  {
   "cell_type": "code",
   "execution_count": null,
   "id": "fa12e04a",
   "metadata": {},
   "outputs": [],
   "source": [
    "dic_fake[i_book]"
   ]
  },
  {
   "cell_type": "code",
   "execution_count": null,
   "id": "09c34180",
   "metadata": {},
   "outputs": [],
   "source": [
    "d_summaries = {}"
   ]
  },
  {
   "cell_type": "code",
   "execution_count": null,
   "id": "21ae1e42",
   "metadata": {},
   "outputs": [],
   "source": [
    "j = 'data/summary_ex.json'"
   ]
  },
  {
   "cell_type": "code",
   "execution_count": null,
   "id": "88f1bf16",
   "metadata": {},
   "outputs": [],
   "source": [
    "d_summaries = json_read(j)"
   ]
  },
  {
   "cell_type": "code",
   "execution_count": null,
   "id": "94d798ed",
   "metadata": {},
   "outputs": [],
   "source": [
    "d_summaries[dic_fake[i_book]['title']] = dic_fake[i_book]"
   ]
  },
  {
   "cell_type": "code",
   "execution_count": null,
   "id": "5dbd8eda",
   "metadata": {},
   "outputs": [],
   "source": [
    "json_save(d_summaries, j)"
   ]
  },
  {
   "cell_type": "code",
   "execution_count": null,
   "id": "233f0c32",
   "metadata": {},
   "outputs": [],
   "source": [
    "dic_fake"
   ]
  },
  {
   "cell_type": "markdown",
   "id": "d81ec9e3",
   "metadata": {},
   "source": [
    "# Conexión"
   ]
  },
  {
   "cell_type": "code",
   "execution_count": null,
   "id": "37cc3db0",
   "metadata": {},
   "outputs": [],
   "source": [
    "conf = json_read('data/config.json')\n",
    "db = get_db(conf['mdb_usr'], conf['mdb_passw'])\n",
    "c_lib, c_lib_sum = get_colls(db)"
   ]
  },
  {
   "cell_type": "code",
   "execution_count": null,
   "id": "6cd26359",
   "metadata": {},
   "outputs": [],
   "source": [
    "# ejemplo de inserción\n",
    "j2 = {'libroId': 999, 'nCapitulos': 999, 'title': 'fake', 'author': 'fake', 'fakeTitle': 'fake', 'fakeAuthor': 'fake',\n",
    "      'idioma':  'es'}\n",
    "j3 = {'libroId': 888, 'nCapitulos': 999, 'title': 'fake', 'author': 'fake', 'fakeTitle': 'fake', 'fakeAuthor': 'fake',\n",
    "      'idioma':  'es'}\n",
    "dics = [j2, j3]\n",
    "dics\n",
    "res = c_lib_sum.insert_many(dics)"
   ]
  },
  {
   "cell_type": "markdown",
   "id": "a016b98b",
   "metadata": {},
   "source": [
    "# Update Diccionario"
   ]
  },
  {
   "cell_type": "code",
   "execution_count": null,
   "id": "fed2f79e",
   "metadata": {},
   "outputs": [],
   "source": [
    "conteo = get_frecuencia_words(di_counts)\n",
    "dicc_file = agrega_a_dicc(conteo, 'data/diccionario.csv')"
   ]
  },
  {
   "cell_type": "code",
   "execution_count": null,
   "id": "9825b9e4",
   "metadata": {
    "collapsed": true
   },
   "outputs": [],
   "source": [
    "dicc_file"
   ]
  },
  {
   "cell_type": "code",
   "execution_count": null,
   "id": "69b10702",
   "metadata": {
    "scrolled": true
   },
   "outputs": [],
   "source": [
    "dicc_file = quita_numeros(dicc_file)"
   ]
  },
  {
   "cell_type": "code",
   "execution_count": null,
   "id": "21e5c89b",
   "metadata": {
    "scrolled": true
   },
   "outputs": [],
   "source": [
    "save_df(dicc_file, 'data', 'diccionario2.csv', True)"
   ]
  },
  {
   "cell_type": "code",
   "execution_count": null,
   "id": "2820d21b",
   "metadata": {},
   "outputs": [],
   "source": [
    "aa = pd.read_csv('data/diccionario.csv', sep=';')\n",
    "aa.shape"
   ]
  },
  {
   "cell_type": "code",
   "execution_count": null,
   "id": "f3969bd5",
   "metadata": {},
   "outputs": [],
   "source": [
    "aa = pd.read_csv('data/diccionario2.csv_81k_2.csv', sep=';')\n",
    "aa.shape"
   ]
  },
  {
   "cell_type": "code",
   "execution_count": null,
   "id": "be586de8",
   "metadata": {
    "scrolled": true
   },
   "outputs": [],
   "source": [
    "dicc_file[dicc_file.n < 4].sample(30)"
   ]
  }
 ],
 "metadata": {
  "jupytext": {
   "formats": "ipynb,py"
  },
  "kernelspec": {
   "display_name": "Python 3 (ipykernel)",
   "language": "python",
   "name": "python3"
  },
  "language_info": {
   "codemirror_mode": {
    "name": "ipython",
    "version": 3
   },
   "file_extension": ".py",
   "mimetype": "text/x-python",
   "name": "python",
   "nbconvert_exporter": "python",
   "pygments_lexer": "ipython3",
   "version": "3.8.8"
  }
 },
 "nbformat": 4,
 "nbformat_minor": 5
}
